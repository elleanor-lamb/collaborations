{
 "cells": [
  {
   "cell_type": "code",
   "execution_count": null,
   "metadata": {},
   "outputs": [],
   "source": [
    "#TASK LIST 22/09/2020\n",
    "#get forward and backward pass to work on the dataset DONE \n",
    "#then montecarlo simulations with critical path DONE FOR 1X. NEED TO PUT INTO A GRAPH AND CHECK WORKS -- how are we going to plot this??\n",
    "#NEED TO LOOP FOR 1000 TIMES AND APPEND THE LATEST FINISH \n",
    "# add deliverables to have more structure \n",
    "#edit regex ids for longer than 26 letters \n",
    "#use real data set -- make sure works with critical "
   ]
  },
  {
   "cell_type": "code",
   "execution_count": 75,
   "metadata": {},
   "outputs": [],
   "source": [
    "import re \n",
    "import numpy as np \n",
    "import os \n",
    "import pandas as pd\n",
    "import matplotlib.pyplot as plt \n"
   ]
  },
  {
   "cell_type": "code",
   "execution_count": 61,
   "metadata": {},
   "outputs": [],
   "source": [
    "class Task(object):\n",
    "    def __init__(self, description, ID, predecessors, days1):\n",
    "        self.description = description \n",
    "        self.ID = ID\n",
    "        self.predecessors = predecessors\n",
    "        self.days1 = days1\n",
    "        self.earlyStart = 0 \n",
    "        self.earliestFinish = 0\n",
    "        self.sucessors = []\n",
    "        self.latestStart = 0\n",
    "        self.latestFinish = 0\n",
    "        self.slack = 0\n",
    "        self.critical = ' '\n",
    "    #compute the slack for a task \n",
    "    def ComputeSlack(self):\n",
    "        self.slack=self.latestFinish-self.earliestFinish \n",
    "        if self.slack > 0:\n",
    "            self.critical = 'NO'\n",
    "        else: \n",
    "            self.critical = 'YES'\n",
    "\n"
   ]
  },
  {
   "cell_type": "code",
   "execution_count": 70,
   "metadata": {},
   "outputs": [],
   "source": [
    "def importData(csvfile):\n",
    "    dataframe=pd.read_csv(csvfile)\n",
    "    return dataframe\n",
    "\n",
    "#function to compute the number of days the task will be carried out for \n",
    "#may have to convert to timefile .. not so simple with different start and end dates\n",
    "def calculateDays(dataframe):\n",
    "    \n",
    "    dataframe['startdate']=pd.to_datetime(dataframe['startdate'])\n",
    "    dataframe['enddate']=pd.to_datetime(dataframe['enddate'])\n",
    "    dataframe['timediff'] = dataframe['enddate']-dataframe['startdate']\n",
    "    dataframe['days']=pd.to_numeric(dataframe['timediff'].dt.days)\n",
    "    #dataframe['days']=(dataframe['enddate']-dataframe['startdate']).days \n",
    "    return dataframe \n"
   ]
  },
  {
   "cell_type": "code",
   "execution_count": 63,
   "metadata": {},
   "outputs": [],
   "source": [
    "#import the csv file and add in the columns. maybe do this on excel. \n",
    "def createTasks(dataframe):\n",
    "    taskObject = []\n",
    "    for i in range(len(dataframe)):\n",
    "        taskObject.append(Task(dataframe['description'][i], dataframe['ID'][i], dataframe['predecessors'][i], dataframe['days1'][i]))\n",
    "    return (taskObject)\n",
    "    \n",
    "def forwardPass(taskObject):\n",
    "    #rule 1 the earliest start of activity with no predecessors = 0 \n",
    "    #rule 2 the earliest start is max early finish of predecessors \n",
    "    #rule 3 early finish = sum of ES and activity time \n",
    "    for task in taskObject:\n",
    "        \n",
    "        if type(task.predecessors) is str:\n",
    "            task.predecessors=task.predecessors.upper()\n",
    "            ef = []\n",
    "            for j in task.predecessors :\n",
    "                for t in taskObject:\n",
    "                    if t.ID == j :\n",
    "                        ef.append(t.earliestFinish)\n",
    "                task.earlyStart = max(ef)\n",
    "            del ef \n",
    "        else: \n",
    "            task.earlyStart = 0 \n",
    "        task.earliestFinish = task.earlyStart + task.days1\n",
    "        "
   ]
  },
  {
   "cell_type": "code",
   "execution_count": 64,
   "metadata": {},
   "outputs": [],
   "source": [
    "def backwardPass(taskObject):\n",
    "    pred=[]\n",
    "    eF=[]\n",
    "    #forward pass is carried out first \n",
    "    #gather earliest finish of all tasks and fill predecessors \n",
    "    #compute the successors of each task \n",
    "    for task in taskObject:\n",
    "        \n",
    "        if type(task.predecessors)==str:\n",
    "            \n",
    "            for j in task.predecessors:\n",
    "                pattern=re.compile(r' [A-Z]') #using regex expressions. limitation of 26 tasks need to convert to numbers\n",
    "                match=pattern.finditer(j)\n",
    "                for r in match:\n",
    "                    pred.append(j) #fill predecessor list of all tasks \n",
    "                    #fill successors \n",
    "                    for m in taskObject:\n",
    "                        if m.ID == j:\n",
    "                            m.successors.append(task.ID)   \n",
    "        eF.append(task.earliestFinish)\n",
    "        \n",
    "    for task in reversed(taskObject):\n",
    "        if task.ID not in pred:\n",
    "            task.latestFinish=max(eF)\n",
    "        else:\n",
    "            minLS = []\n",
    "            for x in task.successors:\n",
    "                for t in (taskObject):\n",
    "                    if t.ID == x:\n",
    "                        minLS.append(t.latestStart)\n",
    "            task.latestFinish = min(minLS) \n",
    "            del minLS\n",
    "        task.latestStart = task.latestFinish - task.days1\n"
   ]
  },
  {
   "cell_type": "code",
   "execution_count": 56,
   "metadata": {},
   "outputs": [],
   "source": [
    "#this simulation uses the startdate and finds number of days predicted based on a uniform distribution of random numbers\n",
    "\n",
    "        \n",
    "def randomise_days(dataframe):\n",
    "    dataframe['days1'] = np.nan\n",
    "    timediff=dataframe['days']\n",
    "    \n",
    "\n",
    "\n",
    "    N = len(dataframe)\n",
    "    ran = np.zeros(N, dtype=float)\n",
    "\n",
    "\n",
    "    for p in range(N):\n",
    "        ran[p] = np.random.uniform(low=0.0, high=1.0, size=None)\n",
    "        dataframe['days1'][p]=timediff[p]-0.1*timediff[p]+timediff[p]*0.2*ran[p]\n",
    "        dataframe['days1'][p]=round(dataframe['days1'][p], 0)\n",
    "    return dataframe "
   ]
  },
  {
   "cell_type": "code",
   "execution_count": 65,
   "metadata": {},
   "outputs": [],
   "source": [
    "def slack(taskObject):\n",
    "    for task in taskObject:\n",
    "        task.ComputeSlack() #dont understand this as well\n",
    "        \n",
    "        \n",
    "def updateDataFrame(df, taskObject):\n",
    "    df2 = pd.DataFrame({'description' : df['description'], 'ID' : df['ID'], 'opt' : df['opt'], \n",
    "                        'most':df['most'], 'pess':df['pess'], 'days1':df['days1'], \n",
    "                        'ES':pd.Series([task.earlyStart for task in taskObject]), \n",
    "                        'EF':pd.Series([task.earliestFinish for task in taskObject]), \n",
    "                        'LS':pd.Series([task.latestStart for task in taskObject]),\n",
    "                        'LF':pd.Series([task.latestFinish for task in taskObject]),\n",
    "                        'SLACK':pd.Series([task.slack for task in taskObject]),\n",
    "                        'CRITICAL':pd.Series([task.critical for task in taskObject])})\n",
    "    return df2\n",
    "\n",
    "                 \n",
    "         \n",
    "    "
   ]
  },
  {
   "cell_type": "markdown",
   "metadata": {},
   "source": [
    "df1=importData('CRITICALPATHdates.csv')\n",
    "\n",
    "df1\n",
    "\n"
   ]
  },
  {
   "cell_type": "code",
   "execution_count": 38,
   "metadata": {},
   "outputs": [],
   "source": [
    "def main():\n",
    "    os.system('clear')\n",
    "    df1=importData('CRITICALPATHdates.csv')[0:24] #for alphabet reasons  \n",
    "    df1=calculateDays(df1)\n",
    "    taskObject = createTasks(df1)\n",
    "    forwardPass(taskObject)\n",
    "    backwardPass(taskObject)\n",
    "    slack(taskObject)\n",
    "    finaldf=updateDataFrame(df1, taskObject)\n",
    "    print(df1)\n",
    "    print(finaldf)\n",
    "    \n"
   ]
  },
  {
   "cell_type": "code",
   "execution_count": 71,
   "metadata": {},
   "outputs": [
    {
     "name": "stderr",
     "output_type": "stream",
     "text": [
      "/usr/local/bin/start_ipykernel.py:15: SettingWithCopyWarning: \n",
      "A value is trying to be set on a copy of a slice from a DataFrame\n",
      "\n",
      "See the caveats in the documentation: http://pandas.pydata.org/pandas-docs/stable/indexing.html#indexing-view-versus-copy\n",
      "/usr/local/bin/start_ipykernel.py:16: SettingWithCopyWarning: \n",
      "A value is trying to be set on a copy of a slice from a DataFrame\n",
      "\n",
      "See the caveats in the documentation: http://pandas.pydata.org/pandas-docs/stable/indexing.html#indexing-view-versus-copy\n"
     ]
    },
    {
     "name": "stdout",
     "output_type": "stream",
     "text": [
      "                                          description ID  opt  most  pess  \\\n",
      "0   Thermal Design of Superconducting High Field M...  A  NaN   NaN   NaN   \n",
      "1                                Beam instrumentation  B  NaN   NaN   NaN   \n",
      "2                      Cold powering: DFBX for String  C  NaN   NaN   NaN   \n",
      "3                    Laser treatment prototype (LESS)  D  NaN   NaN   NaN   \n",
      "4           High-order corrector magnets + prototypes  E  NaN   NaN   NaN   \n",
      "5                Nested orbit correctors + prototypes  F  NaN   NaN   NaN   \n",
      "6                                       D2 Correctors  G  NaN   NaN   NaN   \n",
      "7   Cold testing of  corrector magnets and crab ca...  H  NaN   NaN   NaN   \n",
      "8                      D1 magnet model and cold mass   I  NaN   NaN   NaN   \n",
      "9                        D2 model + prototype+ Magnet  J  NaN   NaN   NaN   \n",
      "10                                      Crab Cavities  K  NaN   NaN   NaN   \n",
      "11                                    Triplet magnets  L  NaN   NaN   NaN   \n",
      "12                      RFD Crab-cavities cryomodules  M  NaN   NaN   NaN   \n",
      "13                            DFHM and DFHX 8+2 units  N  NaN   NaN   NaN   \n",
      "14                              DFM and DFX 8+2 units  O  NaN   NaN   NaN   \n",
      "15                      DQW Crab-cavities cryomodules  P  NaN   NaN   NaN   \n",
      "16                               Magnets and CC jacks  Q  NaN   NaN   NaN   \n",
      "17                                      TAXS and TAXN  R  NaN   NaN   NaN   \n",
      "18  Current leads matching section and inner triplets  S  NaN   NaN   NaN   \n",
      "19  Low impedance collimators (12 units) + IR coll...  T  NaN   NaN   NaN   \n",
      "20            Solid State RF powering (replacing IOT)  U  NaN   NaN   NaN   \n",
      "21                         BPM Mechnics (20+28 units)  V  NaN   NaN   NaN   \n",
      "22  Ionisation chambers for SPS and LHC systems fo...  W  NaN   NaN   NaN   \n",
      "23         HF-HOM and HOM Couplers and Filed Antennas  X  NaN   NaN   NaN   \n",
      "\n",
      "     days1      ES      EF      LS      LF   SLACK CRITICAL  \n",
      "0   1552.0     0.0  1552.0  1467.0  3019.0  1467.0       NO  \n",
      "1   1597.0     0.0  1597.0  1422.0  3019.0  1422.0       NO  \n",
      "2   1439.0     0.0  1439.0  1580.0  3019.0  1580.0       NO  \n",
      "3   1562.0     0.0  1562.0  1457.0  3019.0  1457.0       NO  \n",
      "4   1489.0     0.0  1489.0  1530.0  3019.0  1530.0       NO  \n",
      "5   1576.0     0.0  1576.0  1443.0  3019.0  1443.0       NO  \n",
      "6   1416.0     0.0  1416.0  1603.0  3019.0  1603.0       NO  \n",
      "7   1467.0  1552.0  3019.0  1552.0  3019.0     0.0      YES  \n",
      "8   1411.0  1597.0  3008.0  1608.0  3019.0    11.0       NO  \n",
      "9   1342.0     0.0  1342.0  1677.0  3019.0  1677.0       NO  \n",
      "10  1450.0     0.0  1450.0  1569.0  3019.0  1569.0       NO  \n",
      "11  1508.0     0.0  1508.0  1511.0  3019.0  1511.0       NO  \n",
      "12  1347.0     0.0  1347.0  1672.0  3019.0  1672.0       NO  \n",
      "13  1495.0     0.0  1495.0  1524.0  3019.0  1524.0       NO  \n",
      "14  1591.0     0.0  1591.0  1428.0  3019.0  1428.0       NO  \n",
      "15  1409.0     0.0  1409.0  1610.0  3019.0  1610.0       NO  \n",
      "16  1390.0     0.0  1390.0  1629.0  3019.0  1629.0       NO  \n",
      "17  1351.0     0.0  1351.0  1668.0  3019.0  1668.0       NO  \n",
      "18  1404.0     0.0  1404.0  1615.0  3019.0  1615.0       NO  \n",
      "19  1337.0     0.0  1337.0  1682.0  3019.0  1682.0       NO  \n",
      "20  1392.0     0.0  1392.0  1627.0  3019.0  1627.0       NO  \n",
      "21  1332.0     0.0  1332.0  1687.0  3019.0  1687.0       NO  \n",
      "22  1490.0     0.0  1490.0  1529.0  3019.0  1529.0       NO  \n",
      "23  1513.0     0.0  1513.0  1506.0  3019.0  1506.0       NO  \n"
     ]
    }
   ],
   "source": [
    "\n",
    "\n",
    "os.system('clear')\n",
    "df1=importData('CRITICALPATHdates.csv')[0:24] #for alphabet reasons  \n",
    "df2=calculateDays(df1)\n",
    "df1 = randomise_days(df1)\n",
    "taskObject = createTasks(df1)\n",
    "forwardPass(taskObject)\n",
    "backwardPass(taskObject)\n",
    "slack(taskObject)\n",
    "finaldf=updateDataFrame(df1, taskObject)\n",
    "print(finaldf)\n"
   ]
  },
  {
   "cell_type": "code",
   "execution_count": 78,
   "metadata": {},
   "outputs": [
    {
     "data": {
      "text/plain": [
       "(array([5., 0., 5., 1., 2., 3., 3., 0., 2., 3.]),\n",
       " array([1332. , 1358.5, 1385. , 1411.5, 1438. , 1464.5, 1491. , 1517.5,\n",
       "        1544. , 1570.5, 1597. ]),\n",
       " <a list of 10 Patch objects>)"
      ]
     },
     "execution_count": 78,
     "metadata": {},
     "output_type": "execute_result"
    },
    {
     "data": {
      "image/png": "[encoded data removed]",
      "text/plain": [
       "<Figure size 432x288 with 1 Axes>"
      ]
     },
     "metadata": {
      "needs_background": "light"
     },
     "output_type": "display_data"
    }
   ],
   "source": [
    "days = (df1['days1'])\n",
    "plt.hist(days, bins = 10)"
   ]
  },
  {
   "cell_type": "code",
   "execution_count": null,
   "metadata": {},
   "outputs": [],
   "source": []
  }
 ],
 "metadata": {
  "kernelspec": {
   "display_name": "Python 3",
   "language": "python",
   "name": "python3"
  },
  "language_info": {
   "codemirror_mode": {
    "name": "ipython",
    "version": 3
   },
   "file_extension": ".py",
   "mimetype": "text/x-python",
   "name": "python",
   "nbconvert_exporter": "python",
   "pygments_lexer": "ipython3",
   "version": "3.7.6"
  }
 },
 "nbformat": 4,
 "nbformat_minor": 4
}
